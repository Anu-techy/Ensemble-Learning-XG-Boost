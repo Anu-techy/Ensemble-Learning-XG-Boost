{
 "cells": [
  {
   "cell_type": "code",
   "execution_count": 31,
   "id": "95288b06-ad61-420c-a1f0-5632adce1add",
   "metadata": {},
   "outputs": [],
   "source": [
    "from sklearn.datasets import make_classification\n",
    "from sklearn.model_selection import train_test_split"
   ]
  },
  {
   "cell_type": "code",
   "execution_count": 32,
   "id": "9d1b9d66-0e6c-42ca-9fda-a9a1f4367fab",
   "metadata": {},
   "outputs": [],
   "source": [
    "X, y = make_classification( n_samples = 10000, n_features=10, n_informative=8,n_redundant=2,n_repeated=0, n_classes=3,random_state=42)"
   ]
  },
  {
   "cell_type": "code",
   "execution_count": 33,
   "id": "668211c2-c684-4b8e-ab6d-3ca97778ca3e",
   "metadata": {},
   "outputs": [
    {
     "data": {
      "text/plain": [
       "(10000, 10)"
      ]
     },
     "execution_count": 33,
     "metadata": {},
     "output_type": "execute_result"
    }
   ],
   "source": [
    "X.shape"
   ]
  },
  {
   "cell_type": "code",
   "execution_count": 34,
   "id": "fe178a4a-efac-475e-9634-20c7bcdec8d2",
   "metadata": {},
   "outputs": [
    {
     "data": {
      "text/plain": [
       "array([[-5.31573515,  0.6775586 , -4.43495008, -1.755074  , -0.47264511,\n",
       "        -2.96504643,  2.39563871, -0.38616042, -5.99696616,  2.70706827],\n",
       "       [-1.71149777,  1.42608068, -0.56808572,  1.19785018, -1.45465463,\n",
       "         2.03940975, -1.64207421,  0.54053374, -1.52128605,  1.09364584]])"
      ]
     },
     "execution_count": 34,
     "metadata": {},
     "output_type": "execute_result"
    }
   ],
   "source": [
    "X[:2]       # X, y - numpy array"
   ]
  },
  {
   "cell_type": "code",
   "execution_count": 35,
   "id": "829c431d-6a96-43ff-9033-606dc34c48fb",
   "metadata": {},
   "outputs": [],
   "source": [
    "X_train, X_test, y_train, y_test = train_test_split(X,y,test_size=0.2, random_state=1)"
   ]
  },
  {
   "cell_type": "markdown",
   "id": "d294ccd6-1b85-4aa0-9a48-bc6eeabba5c4",
   "metadata": {},
   "source": [
    "# Logistic Regression "
   ]
  },
  {
   "cell_type": "code",
   "execution_count": 37,
   "id": "c76b48de-c56f-49ae-ac9b-01c99872b622",
   "metadata": {},
   "outputs": [
    {
     "name": "stdout",
     "output_type": "stream",
     "text": [
      "              precision    recall  f1-score   support\n",
      "\n",
      "           0       0.74      0.70      0.72       677\n",
      "           1       0.76      0.77      0.76       664\n",
      "           2       0.68      0.71      0.70       659\n",
      "\n",
      "    accuracy                           0.73      2000\n",
      "   macro avg       0.73      0.73      0.73      2000\n",
      "weighted avg       0.73      0.73      0.73      2000\n",
      "\n"
     ]
    }
   ],
   "source": [
    "from sklearn.linear_model import LogisticRegression\n",
    "from sklearn.metrics import classification_report\n",
    "\n",
    "model = LogisticRegression()\n",
    "model.fit(X_train,y_train)\n",
    "\n",
    "y_pred = model.predict(X_test)\n",
    "cr= classification_report(y_test,y_pred)\n",
    "print(cr)"
   ]
  },
  {
   "cell_type": "markdown",
   "id": "292b20b2-0075-4ad2-922f-0797da5d9a85",
   "metadata": {},
   "source": [
    "# XGB Classifier"
   ]
  },
  {
   "cell_type": "code",
   "execution_count": 39,
   "id": "446eed40-dcd2-4f87-b331-8459ced03bf7",
   "metadata": {},
   "outputs": [
    {
     "name": "stdout",
     "output_type": "stream",
     "text": [
      "              precision    recall  f1-score   support\n",
      "\n",
      "           0       0.88      0.90      0.89       677\n",
      "           1       0.91      0.91      0.91       664\n",
      "           2       0.91      0.90      0.91       659\n",
      "\n",
      "    accuracy                           0.90      2000\n",
      "   macro avg       0.90      0.90      0.90      2000\n",
      "weighted avg       0.90      0.90      0.90      2000\n",
      "\n"
     ]
    }
   ],
   "source": [
    "from xgboost import XGBClassifier\n",
    "\n",
    "model = XGBClassifier()\n",
    "model.fit(X_train,y_train)\n",
    "\n",
    "y_pred = model.predict(X_test)\n",
    "cr= classification_report(y_test,y_pred)\n",
    "print(cr)"
   ]
  },
  {
   "cell_type": "code",
   "execution_count": 40,
   "id": "ce3ee3e9-0a76-44af-b0d8-18bb86bf8ac4",
   "metadata": {},
   "outputs": [],
   "source": [
    "# Logistic Regression performs well when there is some linear relationship/correlation b/w features and target variable\n",
    "# XGB is based on Decision tree are good at capturing non- linear complex r/ps (wisdom of crowds)"
   ]
  },
  {
   "cell_type": "code",
   "execution_count": null,
   "id": "2589113d-097b-462b-ab6b-3c0dfdb3abbf",
   "metadata": {},
   "outputs": [],
   "source": []
  }
 ],
 "metadata": {
  "kernelspec": {
   "display_name": "Python [conda env:base] *",
   "language": "python",
   "name": "conda-base-py"
  },
  "language_info": {
   "codemirror_mode": {
    "name": "ipython",
    "version": 3
   },
   "file_extension": ".py",
   "mimetype": "text/x-python",
   "name": "python",
   "nbconvert_exporter": "python",
   "pygments_lexer": "ipython3",
   "version": "3.12.7"
  }
 },
 "nbformat": 4,
 "nbformat_minor": 5
}
